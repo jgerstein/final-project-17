{
 "cells": [
  {
   "cell_type": "code",
   "execution_count": 1,
   "metadata": {
    "collapsed": true
   },
   "outputs": [],
   "source": [
    "alpha = ['a','b','c','d','e','f','g','h','i','j','k','l','m','n','o','p','q','r','s','t','u','v','w','x','y','z']"
   ]
  },
  {
   "cell_type": "code",
   "execution_count": 2,
   "metadata": {
    "collapsed": true
   },
   "outputs": [],
   "source": [
    "import numpy as np\n",
    "import pandas as pd"
   ]
  },
  {
   "cell_type": "code",
   "execution_count": 3,
   "metadata": {
    "collapsed": true
   },
   "outputs": [],
   "source": [
    "data1 = {n: np.random.randint(0,100) for n in alpha}\n",
    "data2 = {n: np.random.randint(0,100) for n in alpha}"
   ]
  },
  {
   "cell_type": "code",
   "execution_count": 4,
   "metadata": {
    "collapsed": false
   },
   "outputs": [
    {
     "data": {
      "text/plain": [
       "{'a': 24,\n",
       " 'b': 35,\n",
       " 'c': 29,\n",
       " 'd': 61,\n",
       " 'e': 78,\n",
       " 'f': 6,\n",
       " 'g': 97,\n",
       " 'h': 87,\n",
       " 'i': 85,\n",
       " 'j': 70,\n",
       " 'k': 84,\n",
       " 'l': 67,\n",
       " 'm': 92,\n",
       " 'n': 97,\n",
       " 'o': 94,\n",
       " 'p': 11,\n",
       " 'q': 34,\n",
       " 'r': 33,\n",
       " 's': 24,\n",
       " 't': 43,\n",
       " 'u': 10,\n",
       " 'v': 63,\n",
       " 'w': 1,\n",
       " 'x': 66,\n",
       " 'y': 65,\n",
       " 'z': 24}"
      ]
     },
     "execution_count": 4,
     "metadata": {},
     "output_type": "execute_result"
    }
   ],
   "source": [
    "data1"
   ]
  },
  {
   "cell_type": "code",
   "execution_count": 5,
   "metadata": {
    "collapsed": false
   },
   "outputs": [
    {
     "data": {
      "text/plain": [
       "{'a': 87,\n",
       " 'b': 51,\n",
       " 'c': 30,\n",
       " 'd': 10,\n",
       " 'e': 97,\n",
       " 'f': 27,\n",
       " 'g': 26,\n",
       " 'h': 22,\n",
       " 'i': 3,\n",
       " 'j': 6,\n",
       " 'k': 80,\n",
       " 'l': 32,\n",
       " 'm': 75,\n",
       " 'n': 4,\n",
       " 'o': 41,\n",
       " 'p': 7,\n",
       " 'q': 65,\n",
       " 'r': 33,\n",
       " 's': 64,\n",
       " 't': 67,\n",
       " 'u': 59,\n",
       " 'v': 27,\n",
       " 'w': 81,\n",
       " 'x': 52,\n",
       " 'y': 93,\n",
       " 'z': 77}"
      ]
     },
     "execution_count": 5,
     "metadata": {},
     "output_type": "execute_result"
    }
   ],
   "source": [
    "data2"
   ]
  },
  {
   "cell_type": "code",
   "execution_count": 8,
   "metadata": {
    "collapsed": false
   },
   "outputs": [
    {
     "data": {
      "text/html": [
       "\n",
       "    <div class=\"bk-root\">\n",
       "        <a href=\"http://bokeh.pydata.org\" target=\"_blank\" class=\"bk-logo bk-logo-small bk-logo-notebook\"></a>\n",
       "        <span id=\"e79475c7-6e2a-4d76-ad03-1ff6b247face\">Loading BokehJS ...</span>\n",
       "    </div>"
      ]
     },
     "metadata": {},
     "output_type": "display_data"
    },
    {
     "data": {
      "application/javascript": [
       "\n",
       "(function(global) {\n",
       "  function now() {\n",
       "    return new Date();\n",
       "  }\n",
       "\n",
       "  var force = \"1\";\n",
       "\n",
       "  if (typeof (window._bokeh_onload_callbacks) === \"undefined\" || force !== \"\") {\n",
       "    window._bokeh_onload_callbacks = [];\n",
       "    window._bokeh_is_loading = undefined;\n",
       "  }\n",
       "\n",
       "\n",
       "  \n",
       "  if (typeof (window._bokeh_timeout) === \"undefined\" || force !== \"\") {\n",
       "    window._bokeh_timeout = Date.now() + 5000;\n",
       "    window._bokeh_failed_load = false;\n",
       "  }\n",
       "\n",
       "  var NB_LOAD_WARNING = {'data': {'text/html':\n",
       "     \"<div style='background-color: #fdd'>\\n\"+\n",
       "     \"<p>\\n\"+\n",
       "     \"BokehJS does not appear to have successfully loaded. If loading BokehJS from CDN, this \\n\"+\n",
       "     \"may be due to a slow or bad network connection. Possible fixes:\\n\"+\n",
       "     \"</p>\\n\"+\n",
       "     \"<ul>\\n\"+\n",
       "     \"<li>re-rerun `output_notebook()` to attempt to load from CDN again, or</li>\\n\"+\n",
       "     \"<li>use INLINE resources instead, as so:</li>\\n\"+\n",
       "     \"</ul>\\n\"+\n",
       "     \"<code>\\n\"+\n",
       "     \"from bokeh.resources import INLINE\\n\"+\n",
       "     \"output_notebook(resources=INLINE)\\n\"+\n",
       "     \"</code>\\n\"+\n",
       "     \"</div>\"}};\n",
       "\n",
       "  function display_loaded() {\n",
       "    if (window.Bokeh !== undefined) {\n",
       "      Bokeh.$(\"#e79475c7-6e2a-4d76-ad03-1ff6b247face\").text(\"BokehJS successfully loaded.\");\n",
       "    } else if (Date.now() < window._bokeh_timeout) {\n",
       "      setTimeout(display_loaded, 100)\n",
       "    }\n",
       "  }\n",
       "\n",
       "  function run_callbacks() {\n",
       "    window._bokeh_onload_callbacks.forEach(function(callback) { callback() });\n",
       "    delete window._bokeh_onload_callbacks\n",
       "    console.info(\"Bokeh: all callbacks have finished\");\n",
       "  }\n",
       "\n",
       "  function load_libs(js_urls, callback) {\n",
       "    window._bokeh_onload_callbacks.push(callback);\n",
       "    if (window._bokeh_is_loading > 0) {\n",
       "      console.log(\"Bokeh: BokehJS is being loaded, scheduling callback at\", now());\n",
       "      return null;\n",
       "    }\n",
       "    if (js_urls == null || js_urls.length === 0) {\n",
       "      run_callbacks();\n",
       "      return null;\n",
       "    }\n",
       "    console.log(\"Bokeh: BokehJS not loaded, scheduling load and callback at\", now());\n",
       "    window._bokeh_is_loading = js_urls.length;\n",
       "    for (var i = 0; i < js_urls.length; i++) {\n",
       "      var url = js_urls[i];\n",
       "      var s = document.createElement('script');\n",
       "      s.src = url;\n",
       "      s.async = false;\n",
       "      s.onreadystatechange = s.onload = function() {\n",
       "        window._bokeh_is_loading--;\n",
       "        if (window._bokeh_is_loading === 0) {\n",
       "          console.log(\"Bokeh: all BokehJS libraries loaded\");\n",
       "          run_callbacks()\n",
       "        }\n",
       "      };\n",
       "      s.onerror = function() {\n",
       "        console.warn(\"failed to load library \" + url);\n",
       "      };\n",
       "      console.log(\"Bokeh: injecting script tag for BokehJS library: \", url);\n",
       "      document.getElementsByTagName(\"head\")[0].appendChild(s);\n",
       "    }\n",
       "  };var element = document.getElementById(\"e79475c7-6e2a-4d76-ad03-1ff6b247face\");\n",
       "  if (element == null) {\n",
       "    console.log(\"Bokeh: ERROR: autoload.js configured with elementid 'e79475c7-6e2a-4d76-ad03-1ff6b247face' but no matching script tag was found. \")\n",
       "    return false;\n",
       "  }\n",
       "\n",
       "  var js_urls = ['https://cdn.pydata.org/bokeh/release/bokeh-0.12.2.min.js', 'https://cdn.pydata.org/bokeh/release/bokeh-widgets-0.12.2.min.js', 'https://cdn.pydata.org/bokeh/release/bokeh-compiler-0.12.2.min.js'];\n",
       "\n",
       "  var inline_js = [\n",
       "    function(Bokeh) {\n",
       "      Bokeh.set_log_level(\"info\");\n",
       "    },\n",
       "    \n",
       "    function(Bokeh) {\n",
       "      \n",
       "      Bokeh.$(\"#e79475c7-6e2a-4d76-ad03-1ff6b247face\").text(\"BokehJS is loading...\");\n",
       "    },\n",
       "    function(Bokeh) {\n",
       "      console.log(\"Bokeh: injecting CSS: https://cdn.pydata.org/bokeh/release/bokeh-0.12.2.min.css\");\n",
       "      Bokeh.embed.inject_css(\"https://cdn.pydata.org/bokeh/release/bokeh-0.12.2.min.css\");\n",
       "      console.log(\"Bokeh: injecting CSS: https://cdn.pydata.org/bokeh/release/bokeh-widgets-0.12.2.min.css\");\n",
       "      Bokeh.embed.inject_css(\"https://cdn.pydata.org/bokeh/release/bokeh-widgets-0.12.2.min.css\");\n",
       "    }\n",
       "  ];\n",
       "\n",
       "  function run_inline_js() {\n",
       "    \n",
       "    if ((window.Bokeh !== undefined) || (force === \"1\")) {\n",
       "      for (var i = 0; i < inline_js.length; i++) {\n",
       "        inline_js[i](window.Bokeh);\n",
       "      }if (force === \"1\") {\n",
       "        display_loaded();\n",
       "      }} else if (Date.now() < window._bokeh_timeout) {\n",
       "      setTimeout(run_inline_js, 100);\n",
       "    } else if (!window._bokeh_failed_load) {\n",
       "      console.log(\"Bokeh: BokehJS failed to load within specified timeout.\");\n",
       "      window._bokeh_failed_load = true;\n",
       "    } else if (!force) {\n",
       "      var cell = $(\"#e79475c7-6e2a-4d76-ad03-1ff6b247face\").parents('.cell').data().cell;\n",
       "      cell.output_area.append_execute_result(NB_LOAD_WARNING)\n",
       "    }\n",
       "\n",
       "  }\n",
       "\n",
       "  if (window._bokeh_is_loading === 0) {\n",
       "    console.log(\"Bokeh: BokehJS loaded, going straight to plotting\");\n",
       "    run_inline_js();\n",
       "  } else {\n",
       "    load_libs(js_urls, function() {\n",
       "      console.log(\"Bokeh: BokehJS plotting callback run at\", now());\n",
       "      run_inline_js();\n",
       "    });\n",
       "  }\n",
       "}(this));"
      ]
     },
     "metadata": {},
     "output_type": "display_data"
    }
   ],
   "source": [
    "# from bokeh.plotting import figure, output_file, save\n",
    "from bokeh.plotting import figure, output_notebook, show\n",
    "output_notebook()"
   ]
  },
  {
   "cell_type": "code",
   "execution_count": 28,
   "metadata": {
    "collapsed": false
   },
   "outputs": [
    {
     "data": {
      "text/plain": [
       "<bokeh.models.renderers.GlyphRenderer at 0x1c2f9371240>"
      ]
     },
     "execution_count": 28,
     "metadata": {},
     "output_type": "execute_result"
    }
   ],
   "source": [
    "def process_data(n):\n",
    "    y = []\n",
    "    for x in alpha:\n",
    "        y.append(n[x])\n",
    "    return y\n",
    "\n",
    "p = figure(x_range=alpha)\n",
    "\n",
    "\n",
    "p.circle(alpha, process_data(data1), color='blue', size=20, alpha=.5)\n",
    "\n",
    "y2 = []\n",
    "for n in alpha:\n",
    "    y2.append(data2[n])\n",
    "\n",
    "p.asterisk(alpha,y2, color='green', size=20, alpha=.5)"
   ]
  },
  {
   "cell_type": "code",
   "execution_count": 29,
   "metadata": {
    "collapsed": false
   },
   "outputs": [
    {
     "data": {
      "text/html": [
       "\n",
       "\n",
       "    <div class=\"bk-root\">\n",
       "        <div class=\"plotdiv\" id=\"2be8f69d-4f76-489a-b74e-72b172c8d020\"></div>\n",
       "    </div>\n",
       "<script type=\"text/javascript\">\n",
       "  \n",
       "  (function(global) {\n",
       "    function now() {\n",
       "      return new Date();\n",
       "    }\n",
       "  \n",
       "    var force = \"\";\n",
       "  \n",
       "    if (typeof (window._bokeh_onload_callbacks) === \"undefined\" || force !== \"\") {\n",
       "      window._bokeh_onload_callbacks = [];\n",
       "      window._bokeh_is_loading = undefined;\n",
       "    }\n",
       "  \n",
       "  \n",
       "    \n",
       "    if (typeof (window._bokeh_timeout) === \"undefined\" || force !== \"\") {\n",
       "      window._bokeh_timeout = Date.now() + 0;\n",
       "      window._bokeh_failed_load = false;\n",
       "    }\n",
       "  \n",
       "    var NB_LOAD_WARNING = {'data': {'text/html':\n",
       "       \"<div style='background-color: #fdd'>\\n\"+\n",
       "       \"<p>\\n\"+\n",
       "       \"BokehJS does not appear to have successfully loaded. If loading BokehJS from CDN, this \\n\"+\n",
       "       \"may be due to a slow or bad network connection. Possible fixes:\\n\"+\n",
       "       \"</p>\\n\"+\n",
       "       \"<ul>\\n\"+\n",
       "       \"<li>re-rerun `output_notebook()` to attempt to load from CDN again, or</li>\\n\"+\n",
       "       \"<li>use INLINE resources instead, as so:</li>\\n\"+\n",
       "       \"</ul>\\n\"+\n",
       "       \"<code>\\n\"+\n",
       "       \"from bokeh.resources import INLINE\\n\"+\n",
       "       \"output_notebook(resources=INLINE)\\n\"+\n",
       "       \"</code>\\n\"+\n",
       "       \"</div>\"}};\n",
       "  \n",
       "    function display_loaded() {\n",
       "      if (window.Bokeh !== undefined) {\n",
       "        Bokeh.$(\"#2be8f69d-4f76-489a-b74e-72b172c8d020\").text(\"BokehJS successfully loaded.\");\n",
       "      } else if (Date.now() < window._bokeh_timeout) {\n",
       "        setTimeout(display_loaded, 100)\n",
       "      }\n",
       "    }\n",
       "  \n",
       "    function run_callbacks() {\n",
       "      window._bokeh_onload_callbacks.forEach(function(callback) { callback() });\n",
       "      delete window._bokeh_onload_callbacks\n",
       "      console.info(\"Bokeh: all callbacks have finished\");\n",
       "    }\n",
       "  \n",
       "    function load_libs(js_urls, callback) {\n",
       "      window._bokeh_onload_callbacks.push(callback);\n",
       "      if (window._bokeh_is_loading > 0) {\n",
       "        console.log(\"Bokeh: BokehJS is being loaded, scheduling callback at\", now());\n",
       "        return null;\n",
       "      }\n",
       "      if (js_urls == null || js_urls.length === 0) {\n",
       "        run_callbacks();\n",
       "        return null;\n",
       "      }\n",
       "      console.log(\"Bokeh: BokehJS not loaded, scheduling load and callback at\", now());\n",
       "      window._bokeh_is_loading = js_urls.length;\n",
       "      for (var i = 0; i < js_urls.length; i++) {\n",
       "        var url = js_urls[i];\n",
       "        var s = document.createElement('script');\n",
       "        s.src = url;\n",
       "        s.async = false;\n",
       "        s.onreadystatechange = s.onload = function() {\n",
       "          window._bokeh_is_loading--;\n",
       "          if (window._bokeh_is_loading === 0) {\n",
       "            console.log(\"Bokeh: all BokehJS libraries loaded\");\n",
       "            run_callbacks()\n",
       "          }\n",
       "        };\n",
       "        s.onerror = function() {\n",
       "          console.warn(\"failed to load library \" + url);\n",
       "        };\n",
       "        console.log(\"Bokeh: injecting script tag for BokehJS library: \", url);\n",
       "        document.getElementsByTagName(\"head\")[0].appendChild(s);\n",
       "      }\n",
       "    };var element = document.getElementById(\"2be8f69d-4f76-489a-b74e-72b172c8d020\");\n",
       "    if (element == null) {\n",
       "      console.log(\"Bokeh: ERROR: autoload.js configured with elementid '2be8f69d-4f76-489a-b74e-72b172c8d020' but no matching script tag was found. \")\n",
       "      return false;\n",
       "    }\n",
       "  \n",
       "    var js_urls = [];\n",
       "  \n",
       "    var inline_js = [\n",
       "      function(Bokeh) {\n",
       "        Bokeh.$(function() {\n",
       "            var docs_json = {\"73a9ca98-f0d5-4ac5-9f55-99944f316136\":{\"roots\":{\"references\":[{\"attributes\":{\"data_source\":{\"id\":\"983b0578-be90-4044-9350-9e036ef6d0bf\",\"type\":\"ColumnDataSource\"},\"glyph\":{\"id\":\"d5557fde-6895-4534-979a-6d3fd32beb21\",\"type\":\"Circle\"},\"hover_glyph\":null,\"nonselection_glyph\":{\"id\":\"13382213-7047-4e8e-a1ee-5be3c59007af\",\"type\":\"Circle\"},\"selection_glyph\":null},\"id\":\"aed68c93-e4e2-4d56-a2e4-ef4dfa79a3b3\",\"type\":\"GlyphRenderer\"},{\"attributes\":{\"overlay\":{\"id\":\"fa203f7a-c784-4a48-9eab-40606520c3ab\",\"type\":\"BoxAnnotation\"},\"plot\":{\"id\":\"5e7c68eb-22ba-4691-b610-3df2369bf39a\",\"subtype\":\"Figure\",\"type\":\"Plot\"}},\"id\":\"bfc865ba-b519-4b60-9866-92ac5d7049db\",\"type\":\"BoxZoomTool\"},{\"attributes\":{},\"id\":\"d7802206-97c5-4298-96cc-2a769260c64f\",\"type\":\"ToolEvents\"},{\"attributes\":{\"plot\":{\"id\":\"5e7c68eb-22ba-4691-b610-3df2369bf39a\",\"subtype\":\"Figure\",\"type\":\"Plot\"}},\"id\":\"e05a5a8b-46a1-4ea0-8b9a-b0ac569c17ce\",\"type\":\"PanTool\"},{\"attributes\":{\"plot\":{\"id\":\"5e7c68eb-22ba-4691-b610-3df2369bf39a\",\"subtype\":\"Figure\",\"type\":\"Plot\"}},\"id\":\"35fbd493-6dc4-4b89-966e-4320e3730f4e\",\"type\":\"HelpTool\"},{\"attributes\":{},\"id\":\"1ce43188-f44b-4fb5-b8d9-5f20037ba781\",\"type\":\"BasicTicker\"},{\"attributes\":{\"plot\":{\"id\":\"5e7c68eb-22ba-4691-b610-3df2369bf39a\",\"subtype\":\"Figure\",\"type\":\"Plot\"}},\"id\":\"6ec3e7be-ccd9-4285-ac33-1359b60ce6a6\",\"type\":\"ResetTool\"},{\"attributes\":{\"plot\":{\"id\":\"5e7c68eb-22ba-4691-b610-3df2369bf39a\",\"subtype\":\"Figure\",\"type\":\"Plot\"}},\"id\":\"1dac4d44-2771-426f-af80-6091e4b96e3b\",\"type\":\"WheelZoomTool\"},{\"attributes\":{\"active_drag\":\"auto\",\"active_scroll\":\"auto\",\"active_tap\":\"auto\",\"tools\":[{\"id\":\"e05a5a8b-46a1-4ea0-8b9a-b0ac569c17ce\",\"type\":\"PanTool\"},{\"id\":\"1dac4d44-2771-426f-af80-6091e4b96e3b\",\"type\":\"WheelZoomTool\"},{\"id\":\"bfc865ba-b519-4b60-9866-92ac5d7049db\",\"type\":\"BoxZoomTool\"},{\"id\":\"201835c1-4db1-4d9d-bb9d-01a62443ab26\",\"type\":\"SaveTool\"},{\"id\":\"6ec3e7be-ccd9-4285-ac33-1359b60ce6a6\",\"type\":\"ResetTool\"},{\"id\":\"35fbd493-6dc4-4b89-966e-4320e3730f4e\",\"type\":\"HelpTool\"}]},\"id\":\"40889e05-7d40-4a43-8920-49a6dce33092\",\"type\":\"Toolbar\"},{\"attributes\":{\"data_source\":{\"id\":\"dbaadddf-a4d6-439f-aa18-2f7825a7aa5e\",\"type\":\"ColumnDataSource\"},\"glyph\":{\"id\":\"c16cd504-0b0c-44c5-a3cb-754a922809f8\",\"type\":\"Asterisk\"},\"hover_glyph\":null,\"nonselection_glyph\":{\"id\":\"119dae17-f46b-4d1b-ba7a-a377925266ca\",\"type\":\"Asterisk\"},\"selection_glyph\":null},\"id\":\"df867058-7011-40e6-8de0-8c5bcd7f7d76\",\"type\":\"GlyphRenderer\"},{\"attributes\":{\"plot\":null,\"text\":null},\"id\":\"ba54412b-3086-44bd-972a-1bba7bff6b26\",\"type\":\"Title\"},{\"attributes\":{\"callback\":null},\"id\":\"8b320910-ec6f-4b9d-8b9e-58a42e7ef73d\",\"type\":\"DataRange1d\"},{\"attributes\":{},\"id\":\"f393934f-448a-4bb8-bc34-0e2ba90033b8\",\"type\":\"CategoricalTickFormatter\"},{\"attributes\":{\"callback\":null,\"column_names\":[\"y\",\"x\"],\"data\":{\"x\":[\"a\",\"b\",\"c\",\"d\",\"e\",\"f\",\"g\",\"h\",\"i\",\"j\",\"k\",\"l\",\"m\",\"n\",\"o\",\"p\",\"q\",\"r\",\"s\",\"t\",\"u\",\"v\",\"w\",\"x\",\"y\",\"z\"],\"y\":[87,51,30,10,97,27,26,22,3,6,80,32,75,4,41,7,65,33,64,67,59,27,81,52,93,77]}},\"id\":\"dbaadddf-a4d6-439f-aa18-2f7825a7aa5e\",\"type\":\"ColumnDataSource\"},{\"attributes\":{\"fill_alpha\":{\"value\":0.1},\"fill_color\":{\"value\":\"#1f77b4\"},\"line_alpha\":{\"value\":0.1},\"line_color\":{\"value\":\"#1f77b4\"},\"size\":{\"units\":\"screen\",\"value\":20},\"x\":{\"field\":\"x\"},\"y\":{\"field\":\"y\"}},\"id\":\"13382213-7047-4e8e-a1ee-5be3c59007af\",\"type\":\"Circle\"},{\"attributes\":{\"formatter\":{\"id\":\"c53cd93f-6f20-4d2e-9565-2be1d94b0c23\",\"type\":\"BasicTickFormatter\"},\"plot\":{\"id\":\"5e7c68eb-22ba-4691-b610-3df2369bf39a\",\"subtype\":\"Figure\",\"type\":\"Plot\"},\"ticker\":{\"id\":\"1ce43188-f44b-4fb5-b8d9-5f20037ba781\",\"type\":\"BasicTicker\"}},\"id\":\"591f1caa-41a8-4959-b6cb-527acc5ebb67\",\"type\":\"LinearAxis\"},{\"attributes\":{},\"id\":\"c53cd93f-6f20-4d2e-9565-2be1d94b0c23\",\"type\":\"BasicTickFormatter\"},{\"attributes\":{\"below\":[{\"id\":\"65579b4f-d4c8-42cc-8064-3f2dc10e437b\",\"type\":\"CategoricalAxis\"}],\"left\":[{\"id\":\"591f1caa-41a8-4959-b6cb-527acc5ebb67\",\"type\":\"LinearAxis\"}],\"renderers\":[{\"id\":\"65579b4f-d4c8-42cc-8064-3f2dc10e437b\",\"type\":\"CategoricalAxis\"},{\"id\":\"33c4d87c-4f6f-4c8b-ac9b-1f4a46d7855d\",\"type\":\"Grid\"},{\"id\":\"591f1caa-41a8-4959-b6cb-527acc5ebb67\",\"type\":\"LinearAxis\"},{\"id\":\"32855717-a90f-4bde-abe3-26f5de3c2bc4\",\"type\":\"Grid\"},{\"id\":\"fa203f7a-c784-4a48-9eab-40606520c3ab\",\"type\":\"BoxAnnotation\"},{\"id\":\"aed68c93-e4e2-4d56-a2e4-ef4dfa79a3b3\",\"type\":\"GlyphRenderer\"},{\"id\":\"df867058-7011-40e6-8de0-8c5bcd7f7d76\",\"type\":\"GlyphRenderer\"}],\"title\":{\"id\":\"ba54412b-3086-44bd-972a-1bba7bff6b26\",\"type\":\"Title\"},\"tool_events\":{\"id\":\"d7802206-97c5-4298-96cc-2a769260c64f\",\"type\":\"ToolEvents\"},\"toolbar\":{\"id\":\"40889e05-7d40-4a43-8920-49a6dce33092\",\"type\":\"Toolbar\"},\"x_range\":{\"id\":\"f9220ac6-53fe-4d0d-9942-d47a818bc50f\",\"type\":\"FactorRange\"},\"y_range\":{\"id\":\"8b320910-ec6f-4b9d-8b9e-58a42e7ef73d\",\"type\":\"DataRange1d\"}},\"id\":\"5e7c68eb-22ba-4691-b610-3df2369bf39a\",\"subtype\":\"Figure\",\"type\":\"Plot\"},{\"attributes\":{\"fill_alpha\":{\"value\":0.5},\"fill_color\":{\"value\":\"blue\"},\"line_alpha\":{\"value\":0.5},\"line_color\":{\"value\":\"blue\"},\"size\":{\"units\":\"screen\",\"value\":20},\"x\":{\"field\":\"x\"},\"y\":{\"field\":\"y\"}},\"id\":\"d5557fde-6895-4534-979a-6d3fd32beb21\",\"type\":\"Circle\"},{\"attributes\":{},\"id\":\"d52c49d7-0969-4237-97d9-481d983b63f8\",\"type\":\"CategoricalTicker\"},{\"attributes\":{\"callback\":null,\"factors\":[\"a\",\"b\",\"c\",\"d\",\"e\",\"f\",\"g\",\"h\",\"i\",\"j\",\"k\",\"l\",\"m\",\"n\",\"o\",\"p\",\"q\",\"r\",\"s\",\"t\",\"u\",\"v\",\"w\",\"x\",\"y\",\"z\"]},\"id\":\"f9220ac6-53fe-4d0d-9942-d47a818bc50f\",\"type\":\"FactorRange\"},{\"attributes\":{\"callback\":null,\"column_names\":[\"y\",\"x\"],\"data\":{\"x\":[\"a\",\"b\",\"c\",\"d\",\"e\",\"f\",\"g\",\"h\",\"i\",\"j\",\"k\",\"l\",\"m\",\"n\",\"o\",\"p\",\"q\",\"r\",\"s\",\"t\",\"u\",\"v\",\"w\",\"x\",\"y\",\"z\"],\"y\":[24,35,29,61,78,6,97,87,85,70,84,67,92,97,94,11,34,33,24,43,10,63,1,66,65,24]}},\"id\":\"983b0578-be90-4044-9350-9e036ef6d0bf\",\"type\":\"ColumnDataSource\"},{\"attributes\":{\"fill_alpha\":{\"value\":0.5},\"fill_color\":{\"value\":\"green\"},\"line_alpha\":{\"value\":0.5},\"line_color\":{\"value\":\"green\"},\"size\":{\"units\":\"screen\",\"value\":20},\"x\":{\"field\":\"x\"},\"y\":{\"field\":\"y\"}},\"id\":\"c16cd504-0b0c-44c5-a3cb-754a922809f8\",\"type\":\"Asterisk\"},{\"attributes\":{\"formatter\":{\"id\":\"f393934f-448a-4bb8-bc34-0e2ba90033b8\",\"type\":\"CategoricalTickFormatter\"},\"plot\":{\"id\":\"5e7c68eb-22ba-4691-b610-3df2369bf39a\",\"subtype\":\"Figure\",\"type\":\"Plot\"},\"ticker\":{\"id\":\"d52c49d7-0969-4237-97d9-481d983b63f8\",\"type\":\"CategoricalTicker\"}},\"id\":\"65579b4f-d4c8-42cc-8064-3f2dc10e437b\",\"type\":\"CategoricalAxis\"},{\"attributes\":{\"bottom_units\":\"screen\",\"fill_alpha\":{\"value\":0.5},\"fill_color\":{\"value\":\"lightgrey\"},\"left_units\":\"screen\",\"level\":\"overlay\",\"line_alpha\":{\"value\":1.0},\"line_color\":{\"value\":\"black\"},\"line_dash\":[4,4],\"line_width\":{\"value\":2},\"plot\":null,\"render_mode\":\"css\",\"right_units\":\"screen\",\"top_units\":\"screen\"},\"id\":\"fa203f7a-c784-4a48-9eab-40606520c3ab\",\"type\":\"BoxAnnotation\"},{\"attributes\":{\"plot\":{\"id\":\"5e7c68eb-22ba-4691-b610-3df2369bf39a\",\"subtype\":\"Figure\",\"type\":\"Plot\"},\"ticker\":{\"id\":\"d52c49d7-0969-4237-97d9-481d983b63f8\",\"type\":\"CategoricalTicker\"}},\"id\":\"33c4d87c-4f6f-4c8b-ac9b-1f4a46d7855d\",\"type\":\"Grid\"},{\"attributes\":{\"dimension\":1,\"plot\":{\"id\":\"5e7c68eb-22ba-4691-b610-3df2369bf39a\",\"subtype\":\"Figure\",\"type\":\"Plot\"},\"ticker\":{\"id\":\"1ce43188-f44b-4fb5-b8d9-5f20037ba781\",\"type\":\"BasicTicker\"}},\"id\":\"32855717-a90f-4bde-abe3-26f5de3c2bc4\",\"type\":\"Grid\"},{\"attributes\":{\"fill_alpha\":{\"value\":0.1},\"fill_color\":{\"value\":\"#1f77b4\"},\"line_alpha\":{\"value\":0.1},\"line_color\":{\"value\":\"#1f77b4\"},\"size\":{\"units\":\"screen\",\"value\":20},\"x\":{\"field\":\"x\"},\"y\":{\"field\":\"y\"}},\"id\":\"119dae17-f46b-4d1b-ba7a-a377925266ca\",\"type\":\"Asterisk\"},{\"attributes\":{\"plot\":{\"id\":\"5e7c68eb-22ba-4691-b610-3df2369bf39a\",\"subtype\":\"Figure\",\"type\":\"Plot\"}},\"id\":\"201835c1-4db1-4d9d-bb9d-01a62443ab26\",\"type\":\"SaveTool\"}],\"root_ids\":[\"5e7c68eb-22ba-4691-b610-3df2369bf39a\"]},\"title\":\"Bokeh Application\",\"version\":\"0.12.2\"}};\n",
       "            var render_items = [{\"docid\":\"73a9ca98-f0d5-4ac5-9f55-99944f316136\",\"elementid\":\"2be8f69d-4f76-489a-b74e-72b172c8d020\",\"modelid\":\"5e7c68eb-22ba-4691-b610-3df2369bf39a\"}];\n",
       "            \n",
       "            Bokeh.embed.embed_items(docs_json, render_items);\n",
       "        });\n",
       "      },\n",
       "      function(Bokeh) {\n",
       "      }\n",
       "    ];\n",
       "  \n",
       "    function run_inline_js() {\n",
       "      \n",
       "      if ((window.Bokeh !== undefined) || (force === \"1\")) {\n",
       "        for (var i = 0; i < inline_js.length; i++) {\n",
       "          inline_js[i](window.Bokeh);\n",
       "        }if (force === \"1\") {\n",
       "          display_loaded();\n",
       "        }} else if (Date.now() < window._bokeh_timeout) {\n",
       "        setTimeout(run_inline_js, 100);\n",
       "      } else if (!window._bokeh_failed_load) {\n",
       "        console.log(\"Bokeh: BokehJS failed to load within specified timeout.\");\n",
       "        window._bokeh_failed_load = true;\n",
       "      } else if (!force) {\n",
       "        var cell = $(\"#2be8f69d-4f76-489a-b74e-72b172c8d020\").parents('.cell').data().cell;\n",
       "        cell.output_area.append_execute_result(NB_LOAD_WARNING)\n",
       "      }\n",
       "  \n",
       "    }\n",
       "  \n",
       "    if (window._bokeh_is_loading === 0) {\n",
       "      console.log(\"Bokeh: BokehJS loaded, going straight to plotting\");\n",
       "      run_inline_js();\n",
       "    } else {\n",
       "      load_libs(js_urls, function() {\n",
       "        console.log(\"Bokeh: BokehJS plotting callback run at\", now());\n",
       "        run_inline_js();\n",
       "      });\n",
       "    }\n",
       "  }(this));\n",
       "</script>"
      ]
     },
     "metadata": {},
     "output_type": "display_data"
    }
   ],
   "source": [
    "show(p)"
   ]
  },
  {
   "cell_type": "code",
   "execution_count": null,
   "metadata": {
    "collapsed": true
   },
   "outputs": [],
   "source": []
  }
 ],
 "metadata": {
  "anaconda-cloud": {},
  "kernelspec": {
   "display_name": "Python [conda root]",
   "language": "python",
   "name": "conda-root-py"
  },
  "language_info": {
   "codemirror_mode": {
    "name": "ipython",
    "version": 3
   },
   "file_extension": ".py",
   "mimetype": "text/x-python",
   "name": "python",
   "nbconvert_exporter": "python",
   "pygments_lexer": "ipython3",
   "version": "3.5.2"
  }
 },
 "nbformat": 4,
 "nbformat_minor": 1
}
